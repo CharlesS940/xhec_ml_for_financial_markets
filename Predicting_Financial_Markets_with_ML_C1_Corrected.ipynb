{
 "cells": [
  {
   "cell_type": "markdown",
   "metadata": {
    "editable": true,
    "slideshow": {
     "slide_type": ""
    },
    "tags": []
   },
   "source": [
    "<hr>\n",
    "<br>\n",
    "<br>\n",
    "<br>\n",
    "<h1><center>Predicting Financial Markets with Machine Learning      </center></h1>\n",
    "<h1><center>-      </center></h1>\n",
    "<h2><center>A Simple Linear Model      </center></h2>\n",
    "<br>\n",
    "<br>\n",
    "<hr>\n",
    "<br>"
   ]
  },
  {
   "cell_type": "markdown",
   "metadata": {},
   "source": [
    "<br>\n",
    "<br>\n",
    "<h2>Purpose</h2>\n",
    "<br>\n",
    "<hr>\n",
    "A notebook to develop an AI system aiming at trading intraday on cryptocurrencies\n",
    "<br>\n",
    "<br>"
   ]
  },
  {
   "cell_type": "markdown",
   "metadata": {},
   "source": [
    "<br>\n",
    "<br>\n",
    "<h2>Imports</h2>\n",
    "<br>\n",
    "<hr>\n",
    "<br>"
   ]
  },
  {
   "cell_type": "code",
   "execution_count": null,
   "metadata": {},
   "outputs": [],
   "source": [
    "# Pandas and Python\n",
    "import pandas as pd\n",
    "pd.options.display.float_format = '{:.4f}'.format\n",
    "import numpy as np\n",
    "from tqdm import tqdm\n",
    "import os\n",
    "\n",
    "# Graphic Libraries\n",
    "import plotly.io as pio\n",
    "pio.templates.default = \"simple_white\"\n",
    "pd.options.plotting.backend = \"plotly\"\n",
    "import matplotlib as plt\n",
    "from IPython.display import display, HTML, clear_output\n",
    "\n",
    "\n",
    "# AI and stats\n",
    "import statsmodels.api as sm\n",
    "import xgboost\n",
    "import torch\n",
    "\n",
    "\n"
   ]
  },
  {
   "cell_type": "markdown",
   "metadata": {},
   "source": [
    "<br>\n",
    "<br>\n",
    "<h2>Notebook Parameters</h2>\n",
    "<br>\n",
    "<hr>\n",
    "<br>"
   ]
  },
  {
   "cell_type": "code",
   "execution_count": null,
   "metadata": {
    "scrolled": true
   },
   "outputs": [],
   "source": [
    "# Define data path\n",
    "data_path = \"/home/tbarrau/notebooks/HEC_Course/data_students/in_sample/\"\n",
    "\n",
    "# Risk free rate assumption\n",
    "risk_free_rate = 0.05 # % per year\n",
    "rfr_hourly = (1 + risk_free_rate)**(1 / (24*365)) - 1\n",
    "\n",
    "# Suggested training set\n",
    "start_date_train = \"2023-01-24\"\n",
    "last_date_train = \"2024-01-24\"\n",
    "\n",
    "# Suggested validation set\n",
    "start_date_validate = \"2024-01-25\"\n",
    "last_date_validate = \"2024-07-24\"\n",
    "\n",
    "# Test set (Unavailable)\n",
    "# start_date_test = \"2024-07-25\"\n",
    "# last_date_test = \"2025-01-24\"\n",
    "\n",
    "# Maximum number of features to use\n",
    "max_nb_features = 20\n",
    "\n",
    "# Set a level of transaction costs\n",
    "tc = 0.0000\n"
   ]
  },
  {
   "cell_type": "markdown",
   "metadata": {},
   "source": [
    "<br>\n",
    "<br>\n",
    "<h2>Data Loading</h2>\n",
    "<br>\n",
    "<hr>\n",
    "<br>"
   ]
  },
  {
   "cell_type": "code",
   "execution_count": null,
   "metadata": {},
   "outputs": [],
   "source": [
    "# Main data\n",
    "data = pd.read_csv(\n",
    "    f\"{data_path}data_in_sample.csv\",\n",
    "    index_col=0,\n",
    "    header=[0,1],\n",
    ")\n",
    "\n",
    "# Make sure that the index is in the right format\n",
    "data.index = pd.to_datetime(data.index)\n",
    "\n",
    "# Visualize data\n",
    "data\n"
   ]
  },
  {
   "cell_type": "code",
   "execution_count": null,
   "metadata": {},
   "outputs": [],
   "source": [
    "# Check what are the fields available\n",
    "data.columns.get_level_values(0).drop_duplicates()\n"
   ]
  },
  {
   "cell_type": "code",
   "execution_count": null,
   "metadata": {
    "scrolled": true
   },
   "outputs": [],
   "source": [
    "# Load pre-processed features\n",
    "features = {}\n",
    "for dirpath, dirnames, filenames in os.walk(data_path):\n",
    "   for filename in filenames[-max_nb_features:]:\n",
    "       \n",
    "      if \"feature\" in filename:\n",
    "          \n",
    "          print(f\"Loading {filename}\")\n",
    "\n",
    "          # Load feature\n",
    "          feature = pd.read_csv(\n",
    "              f\"{data_path}{filename}\",\n",
    "              index_col=0,\n",
    "              header=[0],\n",
    "          )  \n",
    "\n",
    "          # Make sure that the index is in the right format\n",
    "          feature.index = pd.to_datetime(feature.index)\n",
    "\n",
    "          # Store in the feature dict\n",
    "          features[filename.replace(\".csv\", \"\")] = feature\n",
    "           "
   ]
  },
  {
   "cell_type": "markdown",
   "metadata": {},
   "source": [
    "<br>\n",
    "<br>\n",
    "<h2>Analytics</h2>\n",
    "<br>\n",
    "<hr>\n",
    "Basic Portfolio analytics to invest in some predictions of the future instruments returns\n",
    "<br>\n",
    "<br>\n"
   ]
  },
  {
   "cell_type": "markdown",
   "metadata": {},
   "source": [
    "<h4>Naive expected returns definition</h4>\n",
    "One of the recurring stylized facts about financial markets is that short-term returns tend to revert. Let's leverage on this kowledge to create a first very naive expectation of future returns as the reversion of the past hour.\n",
    "<br> "
   ]
  },
  {
   "cell_type": "code",
   "execution_count": null,
   "metadata": {},
   "outputs": [],
   "source": [
    "expected_returns = -data['return']"
   ]
  },
  {
   "cell_type": "markdown",
   "metadata": {},
   "source": [
    "<h4>Analytics definition</h4>\n",
    "In financial machine learning, the aim of minimizing the prediction loss of a model is directly connected to economic interest: minimizing the loss is equivalent to maximizing a financial gain. Hence, it is quite common to directly assess the goodness of fit in terms of economic indicators, the first of them being the Sharpe Ratio.\n",
    "<br> "
   ]
  },
  {
   "cell_type": "code",
   "execution_count": null,
   "metadata": {},
   "outputs": [],
   "source": [
    "def expected_returns_to_positions(expected_returns):\n",
    "    \"\"\"\n",
    "    Normalize expected returns to make it an investable portfolio\n",
    "    \n",
    "    :param expected_returns: pd.DataFrame containing expectations\n",
    "                             about future instruments prices variations\n",
    "    \"\"\"\n",
    "\n",
    "    # Positions will be proportional to ranked alpha\n",
    "    positions = expected_returns.rank(axis=1)\n",
    "\n",
    "    # Re-scale the leverage\n",
    "    positions = positions.div(positions.abs().sum(axis=1), axis=0)\n",
    "\n",
    "    # Make the portfolio dollar neutral\n",
    "    positions = positions.sub(positions.mean(axis=1), axis=0)\n",
    "    \n",
    "    return positions\n",
    "\n",
    "\n",
    "def get_sharpe(pnl_portfolio, rfr_hourly):\n",
    "    \"\"\"\n",
    "    Compute the sharpe ratio\n",
    "    \n",
    "    :param pnl_portfolio: pd.Series of returns of the portfolio considered\n",
    "    :param rfr_hourly: float, the hourly risk free rate\n",
    "    \"\"\"\n",
    "\n",
    "    # Compute excess returns\n",
    "    excess_returns = pnl_portfolio - rfr_hourly\n",
    "    \n",
    "    # Compute sharpe ratio\n",
    "    sharpe_ratio = (\n",
    "        excess_returns.mean() / excess_returns.std() * np.sqrt(24 * 365)\n",
    "    )\n",
    "    \n",
    "    # Output\n",
    "    return round(sharpe_ratio, 2)\n",
    "\n",
    "\n",
    "def pnl_analytics(positions, \n",
    "                  returns, \n",
    "                  rfr_hourly,\n",
    "                  lag,\n",
    "                  tc=0):\n",
    "    \"\"\"\n",
    "    Compute the p&l analytics of the strategy\n",
    "    \n",
    "    :param positions: pd.DataFrame, some positions that have been reached\n",
    "    :param returns: pd.DataFrame containing returns of instruments\n",
    "    :param rfr_hourly: float, the hourly risk free rate\n",
    "    :param lag: int, the number of hours to reach the positions\n",
    "    :param tc: float, the transaction costs\n",
    "    \n",
    "    \"\"\"\n",
    "\n",
    "    # Compute gross p&l\n",
    "    pnl = positions.shift(1+lag).mul(returns).sum(axis=1)\n",
    "    \n",
    "    # Compute transaction costs\n",
    "    trades = positions.fillna(0).diff()\n",
    "    costs = trades.abs().sum(axis=1) * tc\n",
    "    \n",
    "    # Net p&l: deduce costs from gross p&l\n",
    "    pnl = pnl.sub(costs, fill_value=0)\n",
    "    \n",
    "    # Compute sharpe\n",
    "    sharpe = get_sharpe(pnl, rfr_hourly)\n",
    "    \n",
    "    return {\"sharpe\": sharpe,\n",
    "           \"pnl\": pnl}\n",
    "\n",
    "\n",
    "def analyze_expected_returns(\n",
    "    expected_returns,\n",
    "    returns,\n",
    "    rfr_hourly,\n",
    "    title = \"a Nice Try\",\n",
    "    lags = [0,1,2,3,6,12],\n",
    "    tc = 0\n",
    "):\n",
    "    \"\"\"\n",
    "    Provide an economic analysis of some expected_returns\n",
    "    \n",
    "    :param expected_returns: pd.DataFrame containing expectations\n",
    "                             about future instruments prices variations\n",
    "    \"\"\"\n",
    "    \n",
    "    # Take positions as a function of expected returns\n",
    "    positions = expected_returns_to_positions(expected_returns)\n",
    "    \n",
    "    # Compute p&l and sharpe for different lags\n",
    "    pnl_lags = {}\n",
    "    for lag in lags:\n",
    "        analytics_lag = pnl_analytics(\n",
    "            positions=positions, \n",
    "            returns=returns, \n",
    "            rfr_hourly=rfr_hourly,\n",
    "            lag=lag,\n",
    "            tc=tc)\n",
    "        lag_label = f\"Lag {lag}, sharpe={analytics_lag['sharpe']}\"\n",
    "        pnl_lags[lag_label] = analytics_lag[\"pnl\"]\n",
    "        \n",
    "    # Display returns\n",
    "    pnl_lags = pd.concat(pnl_lags, axis=1).dropna()\n",
    "    fig = (1+pnl_lags).cumprod().plot(\n",
    "        title=f\"Cumulative returns of {title}\",\n",
    "    )\n",
    "    fig.update_layout(yaxis_type=\"log\")\n",
    "    fig.show()\n",
    "    \n"
   ]
  },
  {
   "cell_type": "markdown",
   "metadata": {},
   "source": [
    "Testing analytics on our naive expected returns\n",
    "<br> "
   ]
  },
  {
   "cell_type": "code",
   "execution_count": null,
   "metadata": {},
   "outputs": [],
   "source": [
    "# Analyze it\n",
    "analyze_expected_returns(\n",
    "    expected_returns=expected_returns,\n",
    "    returns=data[\"return\"],\n",
    "    rfr_hourly=rfr_hourly,\n",
    "    title = \"a simple reversal model\",\n",
    "    lags = [0,1,2,3,6,12],\n",
    "    tc = tc)"
   ]
  },
  {
   "cell_type": "markdown",
   "metadata": {},
   "source": [
    "<br>\n",
    "<br>\n",
    "<h2>A First Model: OLS Predictions</h2>\n",
    "<br>\n",
    "<hr>\n",
    "A multivariate linear model maybe one of the simplest ways to produce a model, hence that is a good starting point, and a good benchmark.\n",
    "<br>\n",
    "<br>\n"
   ]
  },
  {
   "cell_type": "markdown",
   "metadata": {},
   "source": [
    "<h4>Label definition</h4>\n",
    "What do we want to predict?\n",
    "<br> "
   ]
  },
  {
   "cell_type": "code",
   "execution_count": null,
   "metadata": {},
   "outputs": [],
   "source": [
    "label = data[\"return\"].loc[start_date_train:last_date_train\n",
    "    ].shift(-1).stack()"
   ]
  },
  {
   "cell_type": "markdown",
   "metadata": {},
   "source": [
    "<h4>Features Pre-processing</h4>\n",
    "How to process the features ?\n",
    "<br> "
   ]
  },
  {
   "cell_type": "code",
   "execution_count": null,
   "metadata": {
    "scrolled": true
   },
   "outputs": [],
   "source": [
    "features_normalized = {}\n",
    "\n",
    "for feature_name in features.keys():\n",
    "\n",
    "    print(f\"Processing {feature_name}\")\n",
    "    \n",
    "    # Extract the feature\n",
    "    feature_normalized = features[feature_name]\n",
    "\n",
    "    # Rank the feature to remove outliers\n",
    "    feature_normalized = feature_normalized.rank(axis=1, pct=True) - 0.5\n",
    "\n",
    "    # Stack the feature\n",
    "    feature_normalized = feature_normalized.stack()\n",
    "\n",
    "    # Store this normalized version\n",
    "    features_normalized[feature_name] = feature_normalized\n",
    "\n",
    "# # Convert normalized features dict to a single dataframe\n",
    "features_normalized = pd.concat(features_normalized, axis=1)\n",
    "\n",
    "# Replace NaNs by average values, as OLS cannot handle NaNs effectively\n",
    "features_normalized = features_normalized.fillna(0)\n",
    "\n",
    "# Reindex like the label for training\n",
    "features_normalized_train = features_normalized.reindex(label.index)\n",
    "                                                        "
   ]
  },
  {
   "cell_type": "markdown",
   "metadata": {},
   "source": [
    "<h4>Model Creation</h4>\n",
    "<br> "
   ]
  },
  {
   "cell_type": "code",
   "execution_count": null,
   "metadata": {},
   "outputs": [],
   "source": [
    "# Create model\n",
    "model = sm.OLS(\n",
    "    endog = label,\n",
    "    exog = sm.add_constant(features_normalized_train),\n",
    ")\n",
    "\n",
    "# Fit the model\n",
    "model = model.fit()\n"
   ]
  },
  {
   "cell_type": "markdown",
   "metadata": {},
   "source": [
    "<h4>Model Predictions</h4>\n",
    "<br> \n",
    "<h5>Train Set</h5>\n",
    "<br> "
   ]
  },
  {
   "cell_type": "code",
   "execution_count": null,
   "metadata": {},
   "outputs": [],
   "source": [
    "# Make predictions\n",
    "predictions = model.predict(\n",
    "    sm.add_constant(features_normalized_train)).unstack()\n",
    "\n",
    "# Analyse our predictions\n",
    "analyze_expected_returns(\n",
    "    expected_returns=predictions,\n",
    "    returns=data[\"return\"].loc[start_date_train:last_date_train],\n",
    "    rfr_hourly=rfr_hourly,\n",
    "    title = \"a simple OLS model, Training Set\",\n",
    "    lags = [0,1,2,3,6,12],\n",
    "    tc = tc)"
   ]
  },
  {
   "cell_type": "markdown",
   "metadata": {},
   "source": [
    "<br> \n",
    "<h5>Validation Set</h5>\n",
    "<br> "
   ]
  },
  {
   "cell_type": "code",
   "execution_count": null,
   "metadata": {},
   "outputs": [],
   "source": [
    "# Extract features on the validation set\n",
    "features_normalized_validate = features_normalized.sort_index().loc[\n",
    "    start_date_validate:last_date_validate]"
   ]
  },
  {
   "cell_type": "code",
   "execution_count": null,
   "metadata": {},
   "outputs": [],
   "source": [
    "# Make predictions\n",
    "predictions = model.predict(\n",
    "    sm.add_constant(features_normalized_validate)).unstack()\n",
    "\n",
    "# Analyse our predictions\n",
    "analyze_expected_returns(\n",
    "    expected_returns=predictions,\n",
    "    returns=data[\"return\"].loc[start_date_validate:last_date_validate],\n",
    "    rfr_hourly=rfr_hourly,\n",
    "    title = \"a simple OLS model, Validation Set\",\n",
    "    lags = [0,1,2,3,6,12],\n",
    "    tc = tc)"
   ]
  },
  {
   "cell_type": "code",
   "execution_count": null,
   "metadata": {},
   "outputs": [],
   "source": []
  },
  {
   "cell_type": "code",
   "execution_count": null,
   "metadata": {},
   "outputs": [],
   "source": []
  },
  {
   "cell_type": "code",
   "execution_count": null,
   "metadata": {},
   "outputs": [],
   "source": []
  },
  {
   "cell_type": "code",
   "execution_count": null,
   "metadata": {},
   "outputs": [],
   "source": []
  }
 ],
 "metadata": {
  "kernelspec": {
   "display_name": "Python 3 (ipykernel)",
   "language": "python",
   "name": "python3"
  },
  "language_info": {
   "codemirror_mode": {
    "name": "ipython",
    "version": 3
   },
   "file_extension": ".py",
   "mimetype": "text/x-python",
   "name": "python",
   "nbconvert_exporter": "python",
   "pygments_lexer": "ipython3",
   "version": "3.10.12"
  }
 },
 "nbformat": 4,
 "nbformat_minor": 4
}
